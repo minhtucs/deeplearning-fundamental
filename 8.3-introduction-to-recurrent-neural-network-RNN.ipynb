{
 "cells": [
  {
   "cell_type": "markdown",
   "metadata": {},
   "source": [
    "### Embedding Layer in PyTorch"
   ]
  },
  {
   "cell_type": "code",
   "execution_count": 1,
   "metadata": {},
   "outputs": [],
   "source": [
    "import torch"
   ]
  },
  {
   "cell_type": "markdown",
   "metadata": {},
   "source": [
    "#### 1. Using torch.nn.Embedding"
   ]
  },
  {
   "cell_type": "code",
   "execution_count": 2,
   "metadata": {},
   "outputs": [
    {
     "data": {
      "text/plain": [
       "<torch._C.Generator at 0x7f77b350b390>"
      ]
     },
     "execution_count": 2,
     "metadata": {},
     "output_type": "execute_result"
    }
   ],
   "source": [
    "torch.manual_seed(1)"
   ]
  },
  {
   "cell_type": "code",
   "execution_count": 3,
   "metadata": {},
   "outputs": [
    {
     "data": {
      "text/plain": [
       "tensor([[ 1.7674, -0.0954,  0.0612, -0.6177, -0.7981],\n",
       "        [-0.1316, -0.7984,  0.3357,  0.2753,  1.7163],\n",
       "        [ 0.2444, -0.6629,  0.8073,  0.4391,  1.1712]],\n",
       "       grad_fn=<EmbeddingBackward0>)"
      ]
     },
     "execution_count": 3,
     "metadata": {},
     "output_type": "execute_result"
    }
   ],
   "source": [
    "examples = torch.tensor([2,3,1]) # three training examples, each corresponding to a character\n",
    "# to convert character to number, using: ord('a')\n",
    "\n",
    "# number of rows in the Embedding Matrix\n",
    "num_embeddings = max(examples) + 1\n",
    "# create embedding vectors of size 5 ~ number of columns in the Embedding Matrix\n",
    "embedding_dim = 5\n",
    "\n",
    "embedding_layer = torch.nn.Embedding(num_embeddings, embedding_dim)\n",
    "embedding_layer(examples)"
   ]
  },
  {
   "cell_type": "markdown",
   "metadata": {},
   "source": [
    "#### 2. Using torch.nn.Linear (how torch.nn.Embedding work)"
   ]
  },
  {
   "cell_type": "code",
   "execution_count": 5,
   "metadata": {},
   "outputs": [
    {
     "data": {
      "text/plain": [
       "tensor([[ 1.7674, -0.0954,  0.0612, -0.6177, -0.7981],\n",
       "        [-0.1316, -0.7984,  0.3357,  0.2753,  1.7163],\n",
       "        [ 0.2444, -0.6629,  0.8073,  0.4391,  1.1712]], grad_fn=<MmBackward0>)"
      ]
     },
     "execution_count": 5,
     "metadata": {},
     "output_type": "execute_result"
    }
   ],
   "source": [
    "onehot = torch.nn.functional.one_hot(examples)\n",
    "linear = torch.nn.Linear(num_embeddings, embedding_dim, bias=False)\n",
    "linear.weight = torch.nn.Parameter(embedding_layer.weight.T.detach())\n",
    "linear(onehot.float())"
   ]
  }
 ],
 "metadata": {
  "kernelspec": {
   "display_name": "Python 3",
   "language": "python",
   "name": "python3"
  },
  "language_info": {
   "codemirror_mode": {
    "name": "ipython",
    "version": 3
   },
   "file_extension": ".py",
   "mimetype": "text/x-python",
   "name": "python",
   "nbconvert_exporter": "python",
   "pygments_lexer": "ipython3",
   "version": "3.8.10"
  }
 },
 "nbformat": 4,
 "nbformat_minor": 2
}
