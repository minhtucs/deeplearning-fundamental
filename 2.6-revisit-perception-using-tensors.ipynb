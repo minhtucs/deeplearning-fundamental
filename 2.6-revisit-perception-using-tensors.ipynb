{
 "cells": [
  {
   "cell_type": "markdown",
   "metadata": {},
   "source": [
    "### Revisit Perception using PyTorch Tensors\n",
    "Ref: https://lightning.ai/courses/deep-learning-fundamentals/2-0-unit-2-overview/2-6-revisiting-the-perceptron-algorithm/"
   ]
  },
  {
   "cell_type": "code",
   "execution_count": 2,
   "metadata": {},
   "outputs": [],
   "source": [
    "import torch\n",
    "from torch import tensor\n",
    "import pandas as pd\n",
    "import numpy as np\n",
    "import matplotlib.pyplot as plt"
   ]
  },
  {
   "cell_type": "code",
   "execution_count": 3,
   "metadata": {},
   "outputs": [
    {
     "data": {
      "text/html": [
       "<div>\n",
       "<style scoped>\n",
       "    .dataframe tbody tr th:only-of-type {\n",
       "        vertical-align: middle;\n",
       "    }\n",
       "\n",
       "    .dataframe tbody tr th {\n",
       "        vertical-align: top;\n",
       "    }\n",
       "\n",
       "    .dataframe thead th {\n",
       "        text-align: right;\n",
       "    }\n",
       "</style>\n",
       "<table border=\"1\" class=\"dataframe\">\n",
       "  <thead>\n",
       "    <tr style=\"text-align: right;\">\n",
       "      <th></th>\n",
       "      <th>x1</th>\n",
       "      <th>x2</th>\n",
       "      <th>label</th>\n",
       "    </tr>\n",
       "  </thead>\n",
       "  <tbody>\n",
       "    <tr>\n",
       "      <th>0</th>\n",
       "      <td>0.77</td>\n",
       "      <td>-1.14</td>\n",
       "      <td>0</td>\n",
       "    </tr>\n",
       "    <tr>\n",
       "      <th>1</th>\n",
       "      <td>-0.33</td>\n",
       "      <td>1.44</td>\n",
       "      <td>0</td>\n",
       "    </tr>\n",
       "    <tr>\n",
       "      <th>2</th>\n",
       "      <td>0.91</td>\n",
       "      <td>-3.07</td>\n",
       "      <td>0</td>\n",
       "    </tr>\n",
       "    <tr>\n",
       "      <th>3</th>\n",
       "      <td>-0.37</td>\n",
       "      <td>-1.91</td>\n",
       "      <td>0</td>\n",
       "    </tr>\n",
       "    <tr>\n",
       "      <th>4</th>\n",
       "      <td>-0.63</td>\n",
       "      <td>-1.53</td>\n",
       "      <td>0</td>\n",
       "    </tr>\n",
       "  </tbody>\n",
       "</table>\n",
       "</div>"
      ],
      "text/plain": [
       "     x1    x2  label\n",
       "0  0.77 -1.14      0\n",
       "1 -0.33  1.44      0\n",
       "2  0.91 -3.07      0\n",
       "3 -0.37 -1.91      0\n",
       "4 -0.63 -1.53      0"
      ]
     },
     "execution_count": 3,
     "metadata": {},
     "output_type": "execute_result"
    }
   ],
   "source": [
    "df = pd.read_csv('dataset/perception_toydata-truncated.csv')\n",
    "df.head()"
   ]
  },
  {
   "cell_type": "code",
   "execution_count": 16,
   "metadata": {},
   "outputs": [],
   "source": [
    "x_train = tensor(df[['x1', 'x2']].values, dtype=torch.float32)\n",
    "y_train = tensor(df['label'].values, dtype=torch.float32)"
   ]
  },
  {
   "cell_type": "markdown",
   "metadata": {},
   "source": [
    "#### Implement the Model"
   ]
  },
  {
   "cell_type": "code",
   "execution_count": 24,
   "metadata": {},
   "outputs": [],
   "source": [
    "class Perception_withTensor:\n",
    "    \n",
    "    def __init__(self, n_features: int):\n",
    "        self.n_features = n_features\n",
    "        self.weights = torch.zeros(n_features, dtype=torch.float32)\n",
    "        self.bias = tensor(0.0)\n",
    "\n",
    "    \"\"\"Predict output for a single training example\n",
    "    @param x: represents a single training example. ex [x1, x2, x3, ..., xn]\n",
    "    @return: 1 if weighted sum > 0, 0 otherwise\n",
    "    \"\"\"\n",
    "    def forward(self, x: tensor) -> tensor:\n",
    "        weighted_sum = self.bias + torch.dot(self.weights, x)\n",
    "        return tensor(1.) if weighted_sum > 0 else tensor(0.)\n",
    "    \n",
    "    \"\"\"Update the weights and bias based on the error\n",
    "    @param x: represents a single training example. ex [x1, x2, x3, ..., xn]\n",
    "    @param label: represents the label for the training example\n",
    "    \"\"\"\n",
    "    def update(self, x: tensor, label) -> tuple:\n",
    "        prediction = self.forward(x)\n",
    "        error = label - prediction\n",
    "        self.bias += error\n",
    "        self.weights += error * x\n",
    "        return prediction, error\n",
    "    \n",
    "    def calculate_accuracy(self, y_preds: tensor, y_labels: tensor):\n",
    "        return torch.sum(y_preds == y_labels) / len(y_labels)\n",
    "\n",
    "    \"\"\"Train the model\n",
    "    @param x_train: list of training examples. ex [[x1, x2, x3, ..., xn], [x1, x2, x3, ..., xn], ...]\n",
    "    @param y_train: list of labels for training examples. ex [y1, y2, y3, ..., yn]\n",
    "    @param epochs: number of epochs to train the model\n",
    "    \"\"\"\n",
    "    def train(self, x_train: tensor, y_train: tensor, epochs: int):\n",
    "        train_hist = {'epochs': [], 'errors': [], 'accuracies': []}\n",
    "\n",
    "        n = len(y_train)\n",
    "        for epoch in range(epochs):\n",
    "            y_preds = np.zeros(n)\n",
    "            n_errors = 0 # number of errors in this epoch\n",
    "            for i in range(n):\n",
    "                pred_i, error_i = self.update(x_train[i], y_train[i])\n",
    "                y_preds[i] = pred_i\n",
    "                n_errors += abs(error_i)\n",
    "            accuracy = self.calculate_accuracy(tensor(y_preds), y_train)\n",
    "\n",
    "            train_hist['epochs'].append(epoch)\n",
    "            train_hist['errors'].append(n_errors)\n",
    "            train_hist['accuracies'].append(accuracy)\n",
    "            print(f'epoch {epoch}: error = {n_errors}, accuracy = {accuracy}')\n",
    "\n",
    "        # plot_accuracy(train_hist['epochs'], train_hist['accuracies'])\n",
    "        self.plot_decision_boundary(x_train, y_train)\n",
    "        return train_hist\n",
    "    \n",
    "    def plot_decision_boundary(self, x_train, y_train):\n",
    "        plt.figure(figsize=(5,4))\n",
    "        plt.title('Decision Boundary')\n",
    "        \n",
    "        # plot examples\n",
    "        plt.xlabel('x1')\n",
    "        plt.ylabel('x2')\n",
    "        plt.scatter(x_train[y_train==0,0], x_train[y_train==0,1], marker='o', label='class 0')\n",
    "        plt.scatter(x_train[y_train==1,0], x_train[y_train==1,1], marker='^', label='class 1')\n",
    "\n",
    "        # plot decision boundary\n",
    "        x11, x21 = 5, -(self.bias + 5*self.weights[0]) / self.weights[1]\n",
    "        x12, x22 = -(self.bias + 5*self.weights[1]) / self.weights[0], 5\n",
    "        plt.plot([x11, x12], [x21, x22], label='Decision Boundary')\n",
    "        plt.xlim(-5, 5)\n",
    "        plt.ylim(-5, 5)\n",
    "\n",
    "        plt.legend()\n",
    "        plt.grid()\n",
    "        plt.show()"
   ]
  },
  {
   "cell_type": "code",
   "execution_count": 25,
   "metadata": {},
   "outputs": [
    {
     "name": "stdout",
     "output_type": "stream",
     "text": [
      "epoch 0: error = 1.0, accuracy = 0.949999988079071\n",
      "epoch 1: error = 3.0, accuracy = 0.8500000238418579\n",
      "epoch 2: error = 1.0, accuracy = 0.949999988079071\n",
      "epoch 3: error = 0.0, accuracy = 1.0\n",
      "epoch 4: error = 0.0, accuracy = 1.0\n",
      "epoch 5: error = 0.0, accuracy = 1.0\n",
      "epoch 6: error = 0.0, accuracy = 1.0\n",
      "epoch 7: error = 0.0, accuracy = 1.0\n",
      "epoch 8: error = 0.0, accuracy = 1.0\n",
      "epoch 9: error = 0.0, accuracy = 1.0\n"
     ]
    },
    {
     "data": {
      "image/png": "[encoded data removed]",
      "text/plain": [
       "<Figure size 500x400 with 1 Axes>"
      ]
     },
     "metadata": {},
     "output_type": "display_data"
    },
    {
     "data": {
      "text/plain": [
       "{'epochs': [0, 1, 2, 3, 4, 5, 6, 7, 8, 9],\n",
       " 'errors': [tensor(1.),\n",
       "  tensor(3.),\n",
       "  tensor(1.),\n",
       "  tensor(0.),\n",
       "  tensor(0.),\n",
       "  tensor(0.),\n",
       "  tensor(0.),\n",
       "  tensor(0.),\n",
       "  tensor(0.),\n",
       "  tensor(0.)],\n",
       " 'accuracies': [tensor(0.9500),\n",
       "  tensor(0.8500),\n",
       "  tensor(0.9500),\n",
       "  tensor(1.),\n",
       "  tensor(1.),\n",
       "  tensor(1.),\n",
       "  tensor(1.),\n",
       "  tensor(1.),\n",
       "  tensor(1.),\n",
       "  tensor(1.)]}"
      ]
     },
     "execution_count": 25,
     "metadata": {},
     "output_type": "execute_result"
    }
   ],
   "source": [
    "model = Perception_withTensor(2)\n",
    "model.train(x_train, y_train, epochs=10)"
   ]
  }
 ],
 "metadata": {
  "kernelspec": {
   "display_name": "Python 3",
   "language": "python",
   "name": "python3"
  },
  "language_info": {
   "codemirror_mode": {
    "name": "ipython",
    "version": 3
   },
   "file_extension": ".py",
   "mimetype": "text/x-python",
   "name": "python",
   "nbconvert_exporter": "python",
   "pygments_lexer": "ipython3",
   "version": "3.8.10"
  },
  "orig_nbformat": 4
 },
 "nbformat": 4,
 "nbformat_minor": 2
}
