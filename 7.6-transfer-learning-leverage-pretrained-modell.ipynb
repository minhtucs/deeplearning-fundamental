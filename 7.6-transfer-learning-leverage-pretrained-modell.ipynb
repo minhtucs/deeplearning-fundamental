{
 "cells": [
  {
   "cell_type": "markdown",
   "metadata": {},
   "source": [
    "### Transfer Learning - Leverage Pretrained Model\n",
    "https://lightning.ai/courses/deep-learning-fundamentals/unit-7-overview-getting-started-with-computer-vision/unit-7.6-leveraging-pretrained-models-with-transfer-learning/"
   ]
  },
  {
   "cell_type": "code",
   "execution_count": null,
   "metadata": {},
   "outputs": [],
   "source": [
    "import torch\n",
    "import torchvision\n",
    "import lightning\n",
    "from lightning.pytorch.loggers import CSVLogger\n",
    "from torchvision import datasets, transforms\n",
    "from torch.utils.data import dataset, DataLoader\n",
    "import pandas as pd\n",
    "import numpy as np\n",
    "import matplotlib.pyplot as plt\n",
    "from common_def import LightningModel, plot_metrics_from_csv_log\n",
    "import torch.nn.functional as F"
   ]
  },
  {
   "cell_type": "markdown",
   "metadata": {},
   "source": [
    "#### Load the pretrained ResNet model"
   ]
  },
  {
   "cell_type": "code",
   "execution_count": null,
   "metadata": {},
   "outputs": [],
   "source": [
    "models = torch.hub.list('pytorch/vision')\n",
    "for model in models:\n",
    "    if 'resnet' in model:\n",
    "        print(model)"
   ]
  },
  {
   "cell_type": "code",
   "execution_count": null,
   "metadata": {},
   "outputs": [],
   "source": [
    "resnet18_imagenet1kv1 = torch.hub.load('pytorch/vision', 'resnet18', weights='IMAGENET1K_V1')\n",
    "resnet18_imagenet1kv1\n"
   ]
  },
  {
   "cell_type": "markdown",
   "metadata": {},
   "source": [
    "#### Freeze layers and add Output Layer"
   ]
  },
  {
   "cell_type": "code",
   "execution_count": null,
   "metadata": {},
   "outputs": [],
   "source": [
    "# freeze all layers\n",
    "# in case we want to update the whole model, just ignore this\n",
    "for param in resnet18_imagenet1kv1.parameters():\n",
    "    param.requires_grad = False\n",
    "\n",
    "# change output layer\n",
    "# original: (fc): Linear(in_features=512, out_features=1000, bias=True)\n",
    "# our task requires 10 output classes\n",
    "resnet18_imagenet1kv1.fc = torch.nn.Linear(512, 10)"
   ]
  }
 ],
 "metadata": {
  "kernelspec": {
   "display_name": "Python 3",
   "language": "python",
   "name": "python3"
  },
  "language_info": {
   "codemirror_mode": {
    "name": "ipython",
    "version": 3
   },
   "file_extension": ".py",
   "mimetype": "text/x-python",
   "name": "python",
   "nbconvert_exporter": "python",
   "pygments_lexer": "ipython3",
   "version": "3.8.10"
  }
 },
 "nbformat": 4,
 "nbformat_minor": 2
}
