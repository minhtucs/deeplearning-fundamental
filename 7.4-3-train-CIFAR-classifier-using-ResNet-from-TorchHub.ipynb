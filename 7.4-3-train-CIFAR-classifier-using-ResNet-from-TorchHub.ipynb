{
 "cells": [
  {
   "cell_type": "markdown",
   "metadata": {},
   "source": [
    "### Train CIFAR-10 classifier using ResNet from TorchHub"
   ]
  },
  {
   "cell_type": "code",
   "execution_count": null,
   "metadata": {},
   "outputs": [],
   "source": [
    "import torch\n",
    "import torchvision\n",
    "import lightning\n",
    "from lightning.pytorch.loggers import CSVLogger\n",
    "from torchvision import datasets, transforms\n",
    "from torch.utils.data import dataset, DataLoader\n",
    "import pandas as pd\n",
    "import numpy as np\n",
    "import matplotlib.pyplot as plt\n",
    "from common_def import LightningModel, plot_metrics_from_csv_log\n",
    "import torch.nn.functional as F"
   ]
  },
  {
   "cell_type": "markdown",
   "metadata": {},
   "source": [
    "#### Define DataModule"
   ]
  },
  {
   "cell_type": "code",
   "execution_count": null,
   "metadata": {},
   "outputs": [],
   "source": [
    "class CIFAR10DataModule(lightning.LightningDataModule):\n",
    "    def __init__(self, data_dir='./dataset/cifar-10', batch_size=64):\n",
    "        super().__init__()\n",
    "        self.data_dir = data_dir\n",
    "        self.batch_size = batch_size\n",
    "\n",
    "    def prepare_data(self):\n",
    "        transform = transforms.Compose([\n",
    "            transforms.ToTensor(),\n",
    "            transforms.Normalize((0.5, 0.5, 0.5), (0.5, 0.5, 0.5))\n",
    "        ])\n",
    "        self.train_dataset = datasets.CIFAR10(root=self.data_dir, train=True, transform=transform, download=True)\n",
    "        self.test_dataset = datasets.CIFAR10(root=self.data_dir, train=False, transform=transform, download=True)\n",
    "\n",
    "    def setup(self, stage=None):\n",
    "        self.train_dataset, self.val_dataset = dataset.random_split(dataset=self.train_dataset, lengths=[45000, 5000])\n",
    "\n",
    "    def train_dataloader(self):\n",
    "        return DataLoader(dataset=self.train_dataset, batch_size=self.batch_size, shuffle=True)\n",
    "\n",
    "    def val_dataloader(self):\n",
    "        return DataLoader(dataset=self.val_dataset, batch_size=self.batch_size, shuffle=False)\n",
    "\n",
    "    def test_dataloader(self):\n",
    "        return DataLoader(dataset=self.test_dataset, batch_size=self.batch_size, shuffle=False)\n",
    "    "
   ]
  },
  {
   "cell_type": "markdown",
   "metadata": {},
   "source": [
    "#### Load the ResNet from TorchHub"
   ]
  },
  {
   "cell_type": "code",
   "execution_count": 10,
   "metadata": {},
   "outputs": [
    {
     "name": "stderr",
     "output_type": "stream",
     "text": [
      "Downloading: \"https://github.com/pytorch/vision/zipball/main\" to /home/tu/.cache/torch/hub/main.zip\n"
     ]
    },
    {
     "name": "stdout",
     "output_type": "stream",
     "text": [
      "deeplabv3_resnet101\n",
      "deeplabv3_resnet50\n",
      "fcn_resnet101\n",
      "fcn_resnet50\n",
      "resnet101\n",
      "resnet152\n",
      "resnet18\n",
      "resnet34\n",
      "resnet50\n",
      "wide_resnet101_2\n",
      "wide_resnet50_2\n"
     ]
    }
   ],
   "source": [
    "# examine torchhub models\n",
    "model_entrypoints = torch.hub.list('pytorch/vision', force_reload=True)\n",
    "for e in model_entrypoints:\n",
    "    if 'resnet' in e:\n",
    "        print(e)"
   ]
  },
  {
   "cell_type": "code",
   "execution_count": null,
   "metadata": {},
   "outputs": [],
   "source": [
    "resnet18_model = torch.hub.load('pytorch/vision', 'resnet18', weights=None)\n",
    "# weights = None for just loading the model architecture, not pre-trained weights"
   ]
  },
  {
   "cell_type": "markdown",
   "metadata": {},
   "source": [
    "#### Training"
   ]
  },
  {
   "cell_type": "code",
   "execution_count": null,
   "metadata": {},
   "outputs": [],
   "source": [
    "lightning.seed_everything(123)\n",
    "\n",
    "cifar_dm = CIFAR10DataModule()\n",
    "\n",
    "lightning_model = LightningModel(torch_model=resnet18_model, num_classes=10, learning_rate=0.1)\n",
    "\n",
    "trainer = lightning.Trainer(\n",
    "    max_epochs=10, \n",
    "    logger=CSVLogger('lightning_logs', name='ResNet18-CIFAR10'), \n",
    "    deterministic=True,\n",
    "    accelerator='gpu', # cannot train on CPU\n",
    "    devices=1\n",
    "    )\n",
    "\n",
    "trainer.fit(lightning_model, cifar_dm)"
   ]
  }
 ],
 "metadata": {
  "kernelspec": {
   "display_name": "Python 3",
   "language": "python",
   "name": "python3"
  },
  "language_info": {
   "codemirror_mode": {
    "name": "ipython",
    "version": 3
   },
   "file_extension": ".py",
   "mimetype": "text/x-python",
   "name": "python",
   "nbconvert_exporter": "python",
   "pygments_lexer": "ipython3",
   "version": "3.8.10"
  }
 },
 "nbformat": 4,
 "nbformat_minor": 2
}
