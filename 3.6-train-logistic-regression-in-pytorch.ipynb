{
 "cells": [
  {
   "cell_type": "markdown",
   "metadata": {},
   "source": [
    "### Train the Logistic Regression in PyTorch\n",
    "Ref: https://lightning.ai/courses/deep-learning-fundamentals/3-0-overview-model-training-in-pytorch/3-6-training-a-logistic-regression-model-in-pytorch-parts-1-3/"
   ]
  },
  {
   "cell_type": "code",
   "execution_count": 1,
   "metadata": {},
   "outputs": [],
   "source": [
    "import pandas as pd\n",
    "import numpy as np\n",
    "import matplotlib.pyplot as plt\n",
    "import torch\n",
    "from torch import tensor\n",
    "import torch.nn.functional as F # sigmoid, (binary_)cross_entropy, softmax...\n",
    "from torch.utils.data import Dataset, DataLoader"
   ]
  },
  {
   "cell_type": "markdown",
   "metadata": {},
   "source": [
    "#### Load & Preprocess dataset"
   ]
  },
  {
   "cell_type": "code",
   "execution_count": 2,
   "metadata": {},
   "outputs": [
    {
     "data": {
      "text/plain": [
       "0    10\n",
       "1    10\n",
       "Name: label, dtype: int64"
      ]
     },
     "execution_count": 2,
     "metadata": {},
     "output_type": "execute_result"
    }
   ],
   "source": [
    "train_df = pd.read_csv('dataset/perception_toydata-truncated.csv')\n",
    "train_df['label'].value_counts()"
   ]
  },
  {
   "cell_type": "code",
   "execution_count": 3,
   "metadata": {},
   "outputs": [],
   "source": [
    "X_train = train_df[['x1', 'x2']].values\n",
    "y_train = train_df['label'].values"
   ]
  },
  {
   "cell_type": "code",
   "execution_count": 4,
   "metadata": {},
   "outputs": [
    {
     "data": {
      "text/plain": [
       "array([[ 0.10563776, -0.89074802],\n",
       "       [-0.46819698,  0.45515528],\n",
       "       [ 0.17867127, -1.89756715],\n",
       "       [-0.4890637 , -1.29243234],\n",
       "       [-0.62469737, -1.09419852],\n",
       "       [-0.09259606, -1.33416577],\n",
       "       [-0.55166385, -1.72541673],\n",
       "       [-0.65078076, -1.08898184],\n",
       "       [-0.34821335, -2.08536761],\n",
       "       [-0.32212996, -1.31329905],\n",
       "       [ 1.72802507,  0.04303761],\n",
       "       [ 0.08477104,  1.25330724],\n",
       "       [ 0.13693784,  1.75932515],\n",
       "       [ 0.53340547,  0.35603837],\n",
       "       [ 0.2986549 ,  1.74367511],\n",
       "       [ 0.60643899,  1.16462369],\n",
       "       [ 0.38733845,  0.66903914],\n",
       "       [ 0.51775544,  1.71237503],\n",
       "       [ 0.34560501,  1.02899002],\n",
       "       [ 0.39777181,  0.76293937]])"
      ]
     },
     "execution_count": 4,
     "metadata": {},
     "output_type": "execute_result"
    }
   ],
   "source": [
    "X_train = (X_train - X_train.mean()) / X_train.std()\n",
    "X_train"
   ]
  },
  {
   "cell_type": "markdown",
   "metadata": {},
   "source": [
    "#### Plot dataset"
   ]
  },
  {
   "cell_type": "code",
   "execution_count": 5,
   "metadata": {},
   "outputs": [],
   "source": [
    "def plot_examples(X_train, y_train):\n",
    "    plt.figure(figsize=(5,4))\n",
    "    plt.xlabel('x1')\n",
    "    plt.ylabel('x2')\n",
    "    plt.scatter(X_train[y_train==0,0], X_train[y_train==0,1], marker='o', label='class 0')\n",
    "    plt.scatter(X_train[y_train==1,0], X_train[y_train==1,1], marker='^', label='class 1')\n",
    "    plt.legend()\n",
    "    plt.grid()\n",
    "    plt.show()"
   ]
  },
  {
   "cell_type": "code",
   "execution_count": 6,
   "metadata": {},
   "outputs": [
    {
     "data": {
      "image/png": "[encoded data removed]",
      "text/plain": [
       "<Figure size 500x400 with 1 Axes>"
      ]
     },
     "metadata": {},
     "output_type": "display_data"
    }
   ],
   "source": [
    "plot_examples(X_train, y_train)"
   ]
  },
  {
   "cell_type": "markdown",
   "metadata": {},
   "source": [
    "#### Define dataset loader"
   ]
  },
  {
   "cell_type": "code",
   "execution_count": 7,
   "metadata": {},
   "outputs": [],
   "source": [
    "class MyDataset(Dataset):\n",
    "    def __init__(self, X, y):\n",
    "        self.features = tensor(X, dtype=torch.float32)\n",
    "        self.labels = tensor(y, dtype=torch.float32)\n",
    "\n",
    "    def __getitem__(self, index):\n",
    "        x = self.features[index]\n",
    "        y = self.labels[index]\n",
    "        return x, y\n",
    "    \n",
    "    def __len__(self):\n",
    "        return self.labels.shape[0]\n",
    "\n",
    "# train_ds = MyDataset(X_train, y_batch)\n",
    "# train_loader = DataLoader(dataset=train_ds, batch_size=10, shuffle=True)"
   ]
  },
  {
   "cell_type": "markdown",
   "metadata": {},
   "source": [
    "#### Define the Model"
   ]
  },
  {
   "cell_type": "code",
   "execution_count": 8,
   "metadata": {},
   "outputs": [],
   "source": [
    "class LogisticRegression(torch.nn.Module):\n",
    "    def __init__(self, input_size):\n",
    "        super().__init__()\n",
    "        self.linear = torch.nn.Linear(input_size, 1)\n",
    "\n",
    "    def forward(self, x):\n",
    "        logits = self.linear(x) # weighted sum\n",
    "        prob = F.sigmoid(logits)\n",
    "        return prob"
   ]
  },
  {
   "cell_type": "code",
   "execution_count": 9,
   "metadata": {},
   "outputs": [],
   "source": [
    "model = LogisticRegression(2)\n",
    "# model.parameters"
   ]
  },
  {
   "cell_type": "markdown",
   "metadata": {},
   "source": [
    "#### Training"
   ]
  },
  {
   "cell_type": "code",
   "execution_count": 10,
   "metadata": {},
   "outputs": [],
   "source": [
    "def train(model: torch.nn.Module, dataset: Dataset, epochs, batch_size, learning_rate):\n",
    "    torch.manual_seed(1)\n",
    "    optimizer = torch.optim.SGD(model.parameters(), lr=learning_rate)\n",
    "    dataset_loader = DataLoader(dataset=dataset, batch_size=batch_size, shuffle=True)\n",
    "    \n",
    "    for epoch in range(epochs):\n",
    "        forward = model.train() # set the model to the training mode ?\n",
    "        \n",
    "        # loop over every batch of the dataset\n",
    "        for batch_idx, (x_batch, y_batch) in enumerate(dataset_loader):\n",
    "            probs = forward(x_batch) # compute probabilities for this batch\n",
    "            loss = F.binary_cross_entropy(probs, y_batch.view(probs.shape)) # compute the loss for this batch\n",
    "            \n",
    "            optimizer.zero_grad() # zero out the gradients, why?\n",
    "            loss.backward() # backpropagation\n",
    "            optimizer.step() # update weights\n",
    "\n",
    "        print(f'Epoch: {epoch+1:02d}/{epochs:02d} - Loss: {loss}')"
   ]
  },
  {
   "cell_type": "code",
   "execution_count": 11,
   "metadata": {},
   "outputs": [
    {
     "name": "stdout",
     "output_type": "stream",
     "text": [
      "Epoch: 01/50 - Loss: 0.5820499658584595\n",
      "Epoch: 02/50 - Loss: 0.5396604537963867\n",
      "Epoch: 03/50 - Loss: 0.507948637008667\n",
      "Epoch: 04/50 - Loss: 0.47145572304725647\n",
      "Epoch: 05/50 - Loss: 0.429904043674469\n",
      "Epoch: 06/50 - Loss: 0.41898924112319946\n",
      "Epoch: 07/50 - Loss: 0.42439308762550354\n",
      "Epoch: 08/50 - Loss: 0.3947019875049591\n",
      "Epoch: 09/50 - Loss: 0.374049574136734\n",
      "Epoch: 10/50 - Loss: 0.37311747670173645\n",
      "Epoch: 11/50 - Loss: 0.33101382851600647\n",
      "Epoch: 12/50 - Loss: 0.3711766302585602\n",
      "Epoch: 13/50 - Loss: 0.34382402896881104\n",
      "Epoch: 14/50 - Loss: 0.3427039682865143\n",
      "Epoch: 15/50 - Loss: 0.338996559381485\n",
      "Epoch: 16/50 - Loss: 0.310646116733551\n",
      "Epoch: 17/50 - Loss: 0.28479140996932983\n",
      "Epoch: 18/50 - Loss: 0.28485506772994995\n",
      "Epoch: 19/50 - Loss: 0.3419216275215149\n",
      "Epoch: 20/50 - Loss: 0.28992173075675964\n",
      "Epoch: 21/50 - Loss: 0.274331271648407\n",
      "Epoch: 22/50 - Loss: 0.28691449761390686\n",
      "Epoch: 23/50 - Loss: 0.2926355004310608\n",
      "Epoch: 24/50 - Loss: 0.27137434482574463\n",
      "Epoch: 25/50 - Loss: 0.2976545989513397\n",
      "Epoch: 26/50 - Loss: 0.28912824392318726\n",
      "Epoch: 27/50 - Loss: 0.2539028227329254\n",
      "Epoch: 28/50 - Loss: 0.24711045622825623\n",
      "Epoch: 29/50 - Loss: 0.24607141315937042\n",
      "Epoch: 30/50 - Loss: 0.2008664608001709\n",
      "Epoch: 31/50 - Loss: 0.215274840593338\n",
      "Epoch: 32/50 - Loss: 0.20239999890327454\n",
      "Epoch: 33/50 - Loss: 0.26509398221969604\n",
      "Epoch: 34/50 - Loss: 0.21107883751392365\n",
      "Epoch: 35/50 - Loss: 0.2163500338792801\n",
      "Epoch: 36/50 - Loss: 0.24962186813354492\n",
      "Epoch: 37/50 - Loss: 0.20303335785865784\n",
      "Epoch: 38/50 - Loss: 0.1566835343837738\n",
      "Epoch: 39/50 - Loss: 0.18277844786643982\n",
      "Epoch: 40/50 - Loss: 0.22744138538837433\n",
      "Epoch: 41/50 - Loss: 0.25661206245422363\n",
      "Epoch: 42/50 - Loss: 0.1827210634946823\n",
      "Epoch: 43/50 - Loss: 0.1515112817287445\n",
      "Epoch: 44/50 - Loss: 0.22824271023273468\n",
      "Epoch: 45/50 - Loss: 0.2546272873878479\n",
      "Epoch: 46/50 - Loss: 0.21700391173362732\n",
      "Epoch: 47/50 - Loss: 0.21210281550884247\n",
      "Epoch: 48/50 - Loss: 0.15851782262325287\n",
      "Epoch: 49/50 - Loss: 0.191613107919693\n",
      "Epoch: 50/50 - Loss: 0.16378000378608704\n"
     ]
    }
   ],
   "source": [
    "learning_rate = 0.05\n",
    "batch_size = 10\n",
    "epochs = 50\n",
    "\n",
    "dataset = MyDataset(X_train, y_train)\n",
    "\n",
    "model = LogisticRegression(2)\n",
    "train(model, dataset, epochs, batch_size, learning_rate)"
   ]
  },
  {
   "cell_type": "markdown",
   "metadata": {},
   "source": [
    "#### Evaluation"
   ]
  },
  {
   "cell_type": "code",
   "execution_count": 12,
   "metadata": {},
   "outputs": [],
   "source": [
    "def compute_accuracy(model: torch.nn.Module, dataset: Dataset, threshold):\n",
    "    model = model.eval() # set the model to the evaluation mode\n",
    "\n",
    "    true_predictions = 0\n",
    "    total_examples = 0\n",
    "\n",
    "    for idx, (x_batch, y_batch) in enumerate(dataset):\n",
    "        with torch.no_grad(): # ?\n",
    "            probs = model(x_batch)\n",
    "        \n",
    "        predictions = torch.where(probs > threshold, 1, 0)\n",
    "        labels = y_batch.view(predictions.shape).to(predictions.dtype)\n",
    "\n",
    "        compare = predictions == labels\n",
    "        true_predictions += torch.sum(compare)\n",
    "        total_examples += len(compare)\n",
    "\n",
    "    return true_predictions / total_examples"
   ]
  },
  {
   "cell_type": "code",
   "execution_count": 13,
   "metadata": {},
   "outputs": [
    {
     "name": "stdout",
     "output_type": "stream",
     "text": [
      "Accuracy = 95.0%\n"
     ]
    }
   ],
   "source": [
    "threshold = 0.5\n",
    "acc = compute_accuracy(model, dataset, threshold)\n",
    "print(f'Accuracy = {acc*100}%')"
   ]
  },
  {
   "cell_type": "markdown",
   "metadata": {},
   "source": [
    "#### Visualize decision boundary"
   ]
  },
  {
   "cell_type": "code",
   "execution_count": 14,
   "metadata": {},
   "outputs": [
    {
     "data": {
      "image/png": "[encoded data removed]",
      "text/plain": [
       "<Figure size 500x400 with 1 Axes>"
      ]
     },
     "metadata": {},
     "output_type": "display_data"
    }
   ],
   "source": [
    "def plot_decision_boundary(model, X_train, y_train):\n",
    "    plt.figure(figsize=(5,4))\n",
    "    plt.xlabel('x1')\n",
    "    plt.ylabel('x2')\n",
    "    plt.grid()\n",
    "    \n",
    "    plt.scatter(X_train[y_train==0,0], X_train[y_train==0,1], marker='o', label='class 0')\n",
    "    plt.scatter(X_train[y_train==1,0], X_train[y_train==1,1], marker='^', label='class 1')\n",
    "    \n",
    "    w1 = model.linear.weight[0][0].detach()\n",
    "    w2 = model.linear.weight[0][1].detach()\n",
    "    b = model.linear.bias[0].detach()\n",
    "\n",
    "    x1_min = -4\n",
    "    x2_min = -(b + w1*x1_min) / w2\n",
    "    x1_max = 4\n",
    "    x2_max = -(b + w1*x1_max) / w2\n",
    "    plt.plot([x1_min, x1_max], [x2_min, x2_max], label='boundary')\n",
    "\n",
    "    plt.legend()\n",
    "    plt.show()\n",
    "\n",
    "plot_decision_boundary(model, X_train, y_train)"
   ]
  }
 ],
 "metadata": {
  "kernelspec": {
   "display_name": "Python 3",
   "language": "python",
   "name": "python3"
  },
  "language_info": {
   "codemirror_mode": {
    "name": "ipython",
    "version": 3
   },
   "file_extension": ".py",
   "mimetype": "text/x-python",
   "name": "python",
   "nbconvert_exporter": "python",
   "pygments_lexer": "ipython3",
   "version": "3.8.10"
  },
  "orig_nbformat": 4
 },
 "nbformat": 4,
 "nbformat_minor": 2
}
