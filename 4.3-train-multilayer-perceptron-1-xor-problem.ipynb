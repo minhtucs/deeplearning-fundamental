{
 "cells": [
  {
   "cell_type": "markdown",
   "metadata": {},
   "source": [
    "### Train Multilayer Perceptron Network - XOR problem\n",
    "https://lightning.ai/courses/deep-learning-fundamentals/training-multilayer-neural-networks-overview/4-3-training-a-multilayer-neural-network-in-pytorch-part-1-5/"
   ]
  },
  {
   "cell_type": "code",
   "execution_count": 2,
   "metadata": {},
   "outputs": [],
   "source": [
    "import pandas as pd\n",
    "import numpy as np\n",
    "from sklearn.model_selection import train_test_split\n",
    "import torch\n",
    "from torch import tensor\n",
    "import matplotlib.pyplot as plt\n",
    "from torch.utils.data import Dataset, DataLoader\n",
    "import torch.nn.functional as F"
   ]
  },
  {
   "cell_type": "markdown",
   "metadata": {},
   "source": [
    "#### Preprocess dataset"
   ]
  },
  {
   "cell_type": "code",
   "execution_count": 3,
   "metadata": {},
   "outputs": [
    {
     "data": {
      "text/html": [
       "<div>\n",
       "<style scoped>\n",
       "    .dataframe tbody tr th:only-of-type {\n",
       "        vertical-align: middle;\n",
       "    }\n",
       "\n",
       "    .dataframe tbody tr th {\n",
       "        vertical-align: top;\n",
       "    }\n",
       "\n",
       "    .dataframe thead th {\n",
       "        text-align: right;\n",
       "    }\n",
       "</style>\n",
       "<table border=\"1\" class=\"dataframe\">\n",
       "  <thead>\n",
       "    <tr style=\"text-align: right;\">\n",
       "      <th></th>\n",
       "      <th>x1</th>\n",
       "      <th>x2</th>\n",
       "      <th>class label</th>\n",
       "    </tr>\n",
       "  </thead>\n",
       "  <tbody>\n",
       "    <tr>\n",
       "      <th>0</th>\n",
       "      <td>0.781306</td>\n",
       "      <td>1.062984</td>\n",
       "      <td>0</td>\n",
       "    </tr>\n",
       "    <tr>\n",
       "      <th>1</th>\n",
       "      <td>-1.060524</td>\n",
       "      <td>-1.095550</td>\n",
       "      <td>0</td>\n",
       "    </tr>\n",
       "    <tr>\n",
       "      <th>2</th>\n",
       "      <td>0.632125</td>\n",
       "      <td>0.674028</td>\n",
       "      <td>0</td>\n",
       "    </tr>\n",
       "    <tr>\n",
       "      <th>3</th>\n",
       "      <td>-1.424712</td>\n",
       "      <td>0.535203</td>\n",
       "      <td>1</td>\n",
       "    </tr>\n",
       "    <tr>\n",
       "      <th>4</th>\n",
       "      <td>1.383161</td>\n",
       "      <td>1.368510</td>\n",
       "      <td>0</td>\n",
       "    </tr>\n",
       "    <tr>\n",
       "      <th>...</th>\n",
       "      <td>...</td>\n",
       "      <td>...</td>\n",
       "      <td>...</td>\n",
       "    </tr>\n",
       "    <tr>\n",
       "      <th>745</th>\n",
       "      <td>0.792484</td>\n",
       "      <td>0.839275</td>\n",
       "      <td>0</td>\n",
       "    </tr>\n",
       "    <tr>\n",
       "      <th>746</th>\n",
       "      <td>0.582466</td>\n",
       "      <td>-0.749250</td>\n",
       "      <td>1</td>\n",
       "    </tr>\n",
       "    <tr>\n",
       "      <th>747</th>\n",
       "      <td>-1.593475</td>\n",
       "      <td>0.671721</td>\n",
       "      <td>1</td>\n",
       "    </tr>\n",
       "    <tr>\n",
       "      <th>748</th>\n",
       "      <td>-0.812671</td>\n",
       "      <td>-0.268542</td>\n",
       "      <td>0</td>\n",
       "    </tr>\n",
       "    <tr>\n",
       "      <th>749</th>\n",
       "      <td>-1.286524</td>\n",
       "      <td>0.655459</td>\n",
       "      <td>1</td>\n",
       "    </tr>\n",
       "  </tbody>\n",
       "</table>\n",
       "<p>750 rows × 3 columns</p>\n",
       "</div>"
      ],
      "text/plain": [
       "           x1        x2  class label\n",
       "0    0.781306  1.062984            0\n",
       "1   -1.060524 -1.095550            0\n",
       "2    0.632125  0.674028            0\n",
       "3   -1.424712  0.535203            1\n",
       "4    1.383161  1.368510            0\n",
       "..        ...       ...          ...\n",
       "745  0.792484  0.839275            0\n",
       "746  0.582466 -0.749250            1\n",
       "747 -1.593475  0.671721            1\n",
       "748 -0.812671 -0.268542            0\n",
       "749 -1.286524  0.655459            1\n",
       "\n",
       "[750 rows x 3 columns]"
      ]
     },
     "execution_count": 3,
     "metadata": {},
     "output_type": "execute_result"
    }
   ],
   "source": [
    "dataset = pd.read_csv('dataset/xor.csv')\n",
    "dataset"
   ]
  },
  {
   "cell_type": "code",
   "execution_count": 4,
   "metadata": {},
   "outputs": [],
   "source": [
    "X = dataset[['x1', 'x2']].values\n",
    "y = dataset['class label'].values"
   ]
  },
  {
   "cell_type": "code",
   "execution_count": 5,
   "metadata": {},
   "outputs": [],
   "source": [
    "X_train, X_test, y_train, y_test = train_test_split(\n",
    "    X, y, test_size=0.15, random_state=1, shuffle=True, stratify=y)\n",
    "\n",
    "# pd.Series(y_train).value_counts()\n",
    "# pd.Series(y_test).value_counts()"
   ]
  },
  {
   "cell_type": "code",
   "execution_count": 6,
   "metadata": {},
   "outputs": [],
   "source": [
    "X_train, X_val, y_train, y_val = train_test_split(\n",
    "    X_train, y_train, test_size=0.1, random_state=1, shuffle=True, stratify=y_train)"
   ]
  },
  {
   "cell_type": "code",
   "execution_count": 7,
   "metadata": {},
   "outputs": [
    {
     "name": "stdout",
     "output_type": "stream",
     "text": [
      "\n",
      "Training size: (573, 2)\n",
      "Validation size: (64, 2)\n",
      "Test size: (113, 2)\n",
      "\n"
     ]
    }
   ],
   "source": [
    "print(f\"\"\"\n",
    "Training size: {X_train.shape}\n",
    "Validation size: {X_val.shape}\n",
    "Test size: {X_test.shape}\n",
    "\"\"\")"
   ]
  },
  {
   "cell_type": "markdown",
   "metadata": {},
   "source": [
    "#### Plot the dataset"
   ]
  },
  {
   "cell_type": "code",
   "execution_count": 8,
   "metadata": {},
   "outputs": [
    {
     "data": {
      "image/png": "[encoded data removed]",
      "text/plain": [
       "<Figure size 500x400 with 1 Axes>"
      ]
     },
     "metadata": {},
     "output_type": "display_data"
    }
   ],
   "source": [
    "def plot_dataset():\n",
    "    plt.figure(figsize=(5,4))\n",
    "    plt.xlabel('feature x1')\n",
    "    plt.ylabel('feature x2')\n",
    "\n",
    "    plt.scatter(X_train[y_train==0,0], X_train[y_train==0,1], label='class 0', marker='o')\n",
    "    plt.scatter(X_train[y_train==1,0], X_train[y_train==1,1], label='class 1', marker='^')\n",
    "\n",
    "    plt.xlim([-3,3])\n",
    "    plt.ylim([-3,3])\n",
    "    plt.grid()\n",
    "    plt.legend()\n",
    "    plt.show()\n",
    "\n",
    "plot_dataset()"
   ]
  },
  {
   "cell_type": "markdown",
   "metadata": {},
   "source": [
    "#### Implement the Model"
   ]
  },
  {
   "cell_type": "code",
   "execution_count": 9,
   "metadata": {},
   "outputs": [],
   "source": [
    "class MultilayerPerceptron(torch.nn.Module):\n",
    "\n",
    "    def __init__(self, input_features, output_classes):\n",
    "        super().__init__()\n",
    "\n",
    "        layer1_outputs = 25\n",
    "        layer2_outputs = 15\n",
    "\n",
    "        self.all_layers = torch.nn.Sequential(\n",
    "            # 1st hidden layer\n",
    "            torch.nn.Linear(input_features, layer1_outputs),\n",
    "            torch.nn.ReLU(),\n",
    "\n",
    "            # 2nd hidden layer\n",
    "            torch.nn.Linear(layer1_outputs, layer2_outputs),\n",
    "            torch.nn.ReLU(),\n",
    "\n",
    "            # output layer\n",
    "            torch.nn.Linear(layer2_outputs, output_classes)\n",
    "        )\n",
    "\n",
    "    def forward(self, x):\n",
    "        logits = self.all_layers(x)\n",
    "        # why just return logits but not softmax? because cross_entropy does this for us\n",
    "        return logits"
   ]
  },
  {
   "cell_type": "markdown",
   "metadata": {},
   "source": [
    "#### Define dataset loader"
   ]
  },
  {
   "cell_type": "code",
   "execution_count": 10,
   "metadata": {},
   "outputs": [],
   "source": [
    "class MyDataset(Dataset):\n",
    "    def __init__(self, X, y):\n",
    "        self.features = tensor(X, dtype=torch.float32)\n",
    "        self.labels = tensor(y, dtype=torch.int64) #?\n",
    "\n",
    "    def __getitem__(self, index):\n",
    "        x = self.features[index]\n",
    "        y = self.labels[index]\n",
    "        return x, y\n",
    "    \n",
    "    def __len__(self):\n",
    "        return self.labels.shape[0]\n",
    "    \n",
    "train_dataset = MyDataset(X_train, y_train)\n",
    "val_dataset = MyDataset(X_val, y_val)\n",
    "test_dataset = MyDataset(X_test, y_test)"
   ]
  },
  {
   "cell_type": "markdown",
   "metadata": {},
   "source": [
    "#### Training"
   ]
  },
  {
   "cell_type": "code",
   "execution_count": 11,
   "metadata": {},
   "outputs": [],
   "source": [
    "def compute_accuracy(model, dataloader):\n",
    "    correct = 0\n",
    "    total_examples = 0 \n",
    "\n",
    "    model = model.eval()\n",
    "    for idx, (x_batch, y_batch) in enumerate(dataloader): # use dataloader in case dataset is large\n",
    "        with torch.inference_mode(): # the same as torch.no_grad\n",
    "            logits = model(x_batch)\n",
    "        predictions = torch.argmax(logits, dim=1)\n",
    "        compare = y_batch == predictions\n",
    "        correct += torch.sum(compare)\n",
    "        total_examples += len(compare)\n",
    "    \n",
    "    return correct / total_examples"
   ]
  },
  {
   "cell_type": "code",
   "execution_count": 12,
   "metadata": {},
   "outputs": [],
   "source": [
    "def train(model, train_dataset, val_dataset, epochs, batch_size, learning_rate):\n",
    "    \n",
    "    train_loader = DataLoader(dataset=train_dataset, batch_size=batch_size, shuffle=True)\n",
    "    val_loader = DataLoader(dataset=val_dataset, batch_size=batch_size, shuffle=False)\n",
    "\n",
    "    torch.manual_seed(1)\n",
    "    optimizer = torch.optim.SGD(model.parameters(), lr=learning_rate)\n",
    "\n",
    "    for epoch in range(epochs):\n",
    "        model = model.train()\n",
    "        for idx, (x_batch, y_batch) in enumerate(train_loader):\n",
    "            logits = model(x_batch)\n",
    "            loss = F.cross_entropy(logits, y_batch)\n",
    "\n",
    "            optimizer.zero_grad()\n",
    "            loss.backward() # backpropagation\n",
    "            optimizer.step() # update the model (weights)\n",
    "\n",
    "            print(f\"Epoch {epoch+1:03d}/{epochs:03d} - Batch {idx:03d}/{len(train_loader):03d} - Loss {loss:.2f}\")\n",
    "        \n",
    "        train_acc = compute_accuracy(model, train_loader)\n",
    "        val_acc = compute_accuracy(model, val_loader)\n",
    "        print(f\"Train Accuracy {train_acc*100:02f} - Val Accuracy {val_acc*100:02f}\")"
   ]
  },
  {
   "cell_type": "code",
   "execution_count": 13,
   "metadata": {},
   "outputs": [
    {
     "name": "stdout",
     "output_type": "stream",
     "text": [
      "Epoch 001/010 - Batch 000/018 - Loss 0.72\n",
      "Epoch 001/010 - Batch 001/018 - Loss 0.73\n",
      "Epoch 001/010 - Batch 002/018 - Loss 0.70\n",
      "Epoch 001/010 - Batch 003/018 - Loss 0.70\n",
      "Epoch 001/010 - Batch 004/018 - Loss 0.69\n",
      "Epoch 001/010 - Batch 005/018 - Loss 0.68\n",
      "Epoch 001/010 - Batch 006/018 - Loss 0.67\n",
      "Epoch 001/010 - Batch 007/018 - Loss 0.66\n",
      "Epoch 001/010 - Batch 008/018 - Loss 0.68\n",
      "Epoch 001/010 - Batch 009/018 - Loss 0.66\n",
      "Epoch 001/010 - Batch 010/018 - Loss 0.66\n",
      "Epoch 001/010 - Batch 011/018 - Loss 0.65\n",
      "Epoch 001/010 - Batch 012/018 - Loss 0.64\n",
      "Epoch 001/010 - Batch 013/018 - Loss 0.66\n",
      "Epoch 001/010 - Batch 014/018 - Loss 0.64\n",
      "Epoch 001/010 - Batch 015/018 - Loss 0.65\n",
      "Epoch 001/010 - Batch 016/018 - Loss 0.63\n",
      "Epoch 001/010 - Batch 017/018 - Loss 0.60\n",
      "Train Accuracy 87.434555 - Val Accuracy 93.750000\n",
      "Epoch 002/010 - Batch 000/018 - Loss 0.61\n",
      "Epoch 002/010 - Batch 001/018 - Loss 0.62\n",
      "Epoch 002/010 - Batch 002/018 - Loss 0.60\n",
      "Epoch 002/010 - Batch 003/018 - Loss 0.61\n",
      "Epoch 002/010 - Batch 004/018 - Loss 0.60\n",
      "Epoch 002/010 - Batch 005/018 - Loss 0.60\n",
      "Epoch 002/010 - Batch 006/018 - Loss 0.57\n",
      "Epoch 002/010 - Batch 007/018 - Loss 0.58\n",
      "Epoch 002/010 - Batch 008/018 - Loss 0.56\n",
      "Epoch 002/010 - Batch 009/018 - Loss 0.58\n",
      "Epoch 002/010 - Batch 010/018 - Loss 0.57\n",
      "Epoch 002/010 - Batch 011/018 - Loss 0.53\n",
      "Epoch 002/010 - Batch 012/018 - Loss 0.57\n",
      "Epoch 002/010 - Batch 013/018 - Loss 0.53\n",
      "Epoch 002/010 - Batch 014/018 - Loss 0.51\n",
      "Epoch 002/010 - Batch 015/018 - Loss 0.50\n",
      "Epoch 002/010 - Batch 016/018 - Loss 0.55\n",
      "Epoch 002/010 - Batch 017/018 - Loss 0.53\n",
      "Train Accuracy 90.401398 - Val Accuracy 93.750000\n",
      "Epoch 003/010 - Batch 000/018 - Loss 0.52\n",
      "Epoch 003/010 - Batch 001/018 - Loss 0.50\n",
      "Epoch 003/010 - Batch 002/018 - Loss 0.50\n",
      "Epoch 003/010 - Batch 003/018 - Loss 0.47\n",
      "Epoch 003/010 - Batch 004/018 - Loss 0.44\n",
      "Epoch 003/010 - Batch 005/018 - Loss 0.46\n",
      "Epoch 003/010 - Batch 006/018 - Loss 0.52\n",
      "Epoch 003/010 - Batch 007/018 - Loss 0.43\n",
      "Epoch 003/010 - Batch 008/018 - Loss 0.46\n",
      "Epoch 003/010 - Batch 009/018 - Loss 0.42\n",
      "Epoch 003/010 - Batch 010/018 - Loss 0.45\n",
      "Epoch 003/010 - Batch 011/018 - Loss 0.35\n",
      "Epoch 003/010 - Batch 012/018 - Loss 0.42\n",
      "Epoch 003/010 - Batch 013/018 - Loss 0.38\n",
      "Epoch 003/010 - Batch 014/018 - Loss 0.38\n",
      "Epoch 003/010 - Batch 015/018 - Loss 0.39\n",
      "Epoch 003/010 - Batch 016/018 - Loss 0.41\n",
      "Epoch 003/010 - Batch 017/018 - Loss 0.42\n",
      "Train Accuracy 95.637001 - Val Accuracy 96.875000\n",
      "Epoch 004/010 - Batch 000/018 - Loss 0.36\n",
      "Epoch 004/010 - Batch 001/018 - Loss 0.34\n",
      "Epoch 004/010 - Batch 002/018 - Loss 0.35\n",
      "Epoch 004/010 - Batch 003/018 - Loss 0.35\n",
      "Epoch 004/010 - Batch 004/018 - Loss 0.39\n",
      "Epoch 004/010 - Batch 005/018 - Loss 0.30\n",
      "Epoch 004/010 - Batch 006/018 - Loss 0.38\n",
      "Epoch 004/010 - Batch 007/018 - Loss 0.36\n",
      "Epoch 004/010 - Batch 008/018 - Loss 0.34\n",
      "Epoch 004/010 - Batch 009/018 - Loss 0.35\n",
      "Epoch 004/010 - Batch 010/018 - Loss 0.27\n",
      "Epoch 004/010 - Batch 011/018 - Loss 0.28\n",
      "Epoch 004/010 - Batch 012/018 - Loss 0.25\n",
      "Epoch 004/010 - Batch 013/018 - Loss 0.24\n",
      "Epoch 004/010 - Batch 014/018 - Loss 0.27\n",
      "Epoch 004/010 - Batch 015/018 - Loss 0.25\n",
      "Epoch 004/010 - Batch 016/018 - Loss 0.29\n",
      "Epoch 004/010 - Batch 017/018 - Loss 0.35\n",
      "Train Accuracy 97.905762 - Val Accuracy 100.000000\n",
      "Epoch 005/010 - Batch 000/018 - Loss 0.30\n",
      "Epoch 005/010 - Batch 001/018 - Loss 0.22\n",
      "Epoch 005/010 - Batch 002/018 - Loss 0.23\n",
      "Epoch 005/010 - Batch 003/018 - Loss 0.25\n",
      "Epoch 005/010 - Batch 004/018 - Loss 0.16\n",
      "Epoch 005/010 - Batch 005/018 - Loss 0.25\n",
      "Epoch 005/010 - Batch 006/018 - Loss 0.18\n",
      "Epoch 005/010 - Batch 007/018 - Loss 0.26\n",
      "Epoch 005/010 - Batch 008/018 - Loss 0.22\n",
      "Epoch 005/010 - Batch 009/018 - Loss 0.25\n",
      "Epoch 005/010 - Batch 010/018 - Loss 0.29\n",
      "Epoch 005/010 - Batch 011/018 - Loss 0.16\n",
      "Epoch 005/010 - Batch 012/018 - Loss 0.21\n",
      "Epoch 005/010 - Batch 013/018 - Loss 0.17\n",
      "Epoch 005/010 - Batch 014/018 - Loss 0.18\n",
      "Epoch 005/010 - Batch 015/018 - Loss 0.14\n",
      "Epoch 005/010 - Batch 016/018 - Loss 0.20\n",
      "Epoch 005/010 - Batch 017/018 - Loss 0.18\n",
      "Train Accuracy 98.429321 - Val Accuracy 100.000000\n",
      "Epoch 006/010 - Batch 000/018 - Loss 0.19\n",
      "Epoch 006/010 - Batch 001/018 - Loss 0.15\n",
      "Epoch 006/010 - Batch 002/018 - Loss 0.12\n",
      "Epoch 006/010 - Batch 003/018 - Loss 0.13\n",
      "Epoch 006/010 - Batch 004/018 - Loss 0.20\n",
      "Epoch 006/010 - Batch 005/018 - Loss 0.17\n",
      "Epoch 006/010 - Batch 006/018 - Loss 0.20\n",
      "Epoch 006/010 - Batch 007/018 - Loss 0.14\n",
      "Epoch 006/010 - Batch 008/018 - Loss 0.16\n",
      "Epoch 006/010 - Batch 009/018 - Loss 0.17\n",
      "Epoch 006/010 - Batch 010/018 - Loss 0.17\n",
      "Epoch 006/010 - Batch 011/018 - Loss 0.14\n",
      "Epoch 006/010 - Batch 012/018 - Loss 0.13\n",
      "Epoch 006/010 - Batch 013/018 - Loss 0.14\n",
      "Epoch 006/010 - Batch 014/018 - Loss 0.14\n",
      "Epoch 006/010 - Batch 015/018 - Loss 0.10\n",
      "Epoch 006/010 - Batch 016/018 - Loss 0.11\n",
      "Epoch 006/010 - Batch 017/018 - Loss 0.10\n",
      "Train Accuracy 98.254799 - Val Accuracy 100.000000\n",
      "Epoch 007/010 - Batch 000/018 - Loss 0.11\n",
      "Epoch 007/010 - Batch 001/018 - Loss 0.14\n",
      "Epoch 007/010 - Batch 002/018 - Loss 0.10\n",
      "Epoch 007/010 - Batch 003/018 - Loss 0.14\n",
      "Epoch 007/010 - Batch 004/018 - Loss 0.17\n",
      "Epoch 007/010 - Batch 005/018 - Loss 0.10\n",
      "Epoch 007/010 - Batch 006/018 - Loss 0.14\n",
      "Epoch 007/010 - Batch 007/018 - Loss 0.11\n",
      "Epoch 007/010 - Batch 008/018 - Loss 0.12\n",
      "Epoch 007/010 - Batch 009/018 - Loss 0.10\n",
      "Epoch 007/010 - Batch 010/018 - Loss 0.08\n",
      "Epoch 007/010 - Batch 011/018 - Loss 0.09\n",
      "Epoch 007/010 - Batch 012/018 - Loss 0.09\n",
      "Epoch 007/010 - Batch 013/018 - Loss 0.08\n",
      "Epoch 007/010 - Batch 014/018 - Loss 0.17\n",
      "Epoch 007/010 - Batch 015/018 - Loss 0.06\n",
      "Epoch 007/010 - Batch 016/018 - Loss 0.08\n",
      "Epoch 007/010 - Batch 017/018 - Loss 0.07\n",
      "Train Accuracy 98.429321 - Val Accuracy 100.000000\n",
      "Epoch 008/010 - Batch 000/018 - Loss 0.08\n",
      "Epoch 008/010 - Batch 001/018 - Loss 0.07\n",
      "Epoch 008/010 - Batch 002/018 - Loss 0.08\n",
      "Epoch 008/010 - Batch 003/018 - Loss 0.10\n",
      "Epoch 008/010 - Batch 004/018 - Loss 0.11\n",
      "Epoch 008/010 - Batch 005/018 - Loss 0.11\n",
      "Epoch 008/010 - Batch 006/018 - Loss 0.09\n",
      "Epoch 008/010 - Batch 007/018 - Loss 0.06\n",
      "Epoch 008/010 - Batch 008/018 - Loss 0.14\n",
      "Epoch 008/010 - Batch 009/018 - Loss 0.06\n",
      "Epoch 008/010 - Batch 010/018 - Loss 0.06\n",
      "Epoch 008/010 - Batch 011/018 - Loss 0.06\n",
      "Epoch 008/010 - Batch 012/018 - Loss 0.08\n",
      "Epoch 008/010 - Batch 013/018 - Loss 0.07\n",
      "Epoch 008/010 - Batch 014/018 - Loss 0.12\n",
      "Epoch 008/010 - Batch 015/018 - Loss 0.03\n",
      "Epoch 008/010 - Batch 016/018 - Loss 0.07\n",
      "Epoch 008/010 - Batch 017/018 - Loss 0.15\n",
      "Train Accuracy 98.603836 - Val Accuracy 100.000000\n",
      "Epoch 009/010 - Batch 000/018 - Loss 0.04\n",
      "Epoch 009/010 - Batch 001/018 - Loss 0.07\n",
      "Epoch 009/010 - Batch 002/018 - Loss 0.07\n",
      "Epoch 009/010 - Batch 003/018 - Loss 0.04\n",
      "Epoch 009/010 - Batch 004/018 - Loss 0.14\n",
      "Epoch 009/010 - Batch 005/018 - Loss 0.14\n",
      "Epoch 009/010 - Batch 006/018 - Loss 0.07\n",
      "Epoch 009/010 - Batch 007/018 - Loss 0.04\n",
      "Epoch 009/010 - Batch 008/018 - Loss 0.08\n",
      "Epoch 009/010 - Batch 009/018 - Loss 0.09\n",
      "Epoch 009/010 - Batch 010/018 - Loss 0.07\n",
      "Epoch 009/010 - Batch 011/018 - Loss 0.08\n",
      "Epoch 009/010 - Batch 012/018 - Loss 0.06\n",
      "Epoch 009/010 - Batch 013/018 - Loss 0.04\n",
      "Epoch 009/010 - Batch 014/018 - Loss 0.06\n",
      "Epoch 009/010 - Batch 015/018 - Loss 0.06\n",
      "Epoch 009/010 - Batch 016/018 - Loss 0.06\n",
      "Epoch 009/010 - Batch 017/018 - Loss 0.06\n",
      "Train Accuracy 98.429321 - Val Accuracy 100.000000\n",
      "Epoch 010/010 - Batch 000/018 - Loss 0.06\n",
      "Epoch 010/010 - Batch 001/018 - Loss 0.04\n",
      "Epoch 010/010 - Batch 002/018 - Loss 0.03\n",
      "Epoch 010/010 - Batch 003/018 - Loss 0.05\n",
      "Epoch 010/010 - Batch 004/018 - Loss 0.11\n",
      "Epoch 010/010 - Batch 005/018 - Loss 0.07\n",
      "Epoch 010/010 - Batch 006/018 - Loss 0.11\n",
      "Epoch 010/010 - Batch 007/018 - Loss 0.05\n",
      "Epoch 010/010 - Batch 008/018 - Loss 0.06\n",
      "Epoch 010/010 - Batch 009/018 - Loss 0.03\n",
      "Epoch 010/010 - Batch 010/018 - Loss 0.04\n",
      "Epoch 010/010 - Batch 011/018 - Loss 0.07\n",
      "Epoch 010/010 - Batch 012/018 - Loss 0.04\n",
      "Epoch 010/010 - Batch 013/018 - Loss 0.04\n",
      "Epoch 010/010 - Batch 014/018 - Loss 0.11\n",
      "Epoch 010/010 - Batch 015/018 - Loss 0.05\n",
      "Epoch 010/010 - Batch 016/018 - Loss 0.08\n",
      "Epoch 010/010 - Batch 017/018 - Loss 0.04\n",
      "Train Accuracy 98.603836 - Val Accuracy 100.000000\n"
     ]
    }
   ],
   "source": [
    "model = MultilayerPerceptron(2, 2)\n",
    "train(model, train_dataset, val_dataset, epochs=10, batch_size=32, learning_rate=0.1)"
   ]
  },
  {
   "cell_type": "markdown",
   "metadata": {},
   "source": [
    "#### Evaluation the model"
   ]
  },
  {
   "cell_type": "code",
   "execution_count": 14,
   "metadata": {},
   "outputs": [
    {
     "name": "stdout",
     "output_type": "stream",
     "text": [
      "Test acc 100.000000\n"
     ]
    }
   ],
   "source": [
    "test_loader = DataLoader(dataset=test_dataset, batch_size=32, shuffle=True)\n",
    "test_acc = compute_accuracy(model, test_loader)\n",
    "print(f'Test acc {test_acc*100:02f}')"
   ]
  }
 ],
 "metadata": {
  "kernelspec": {
   "display_name": "Python 3",
   "language": "python",
   "name": "python3"
  },
  "language_info": {
   "codemirror_mode": {
    "name": "ipython",
    "version": 3
   },
   "file_extension": ".py",
   "mimetype": "text/x-python",
   "name": "python",
   "nbconvert_exporter": "python",
   "pygments_lexer": "ipython3",
   "version": "3.8.10"
  }
 },
 "nbformat": 4,
 "nbformat_minor": 2
}
